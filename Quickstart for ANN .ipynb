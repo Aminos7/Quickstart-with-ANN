{
  "cells": [
    {
      "cell_type": "markdown",
      "metadata": {
        "id": "R_eitt2MKeHH"
      },
      "source": [
        "# Artificial Neural Networks with Keras"
      ]
    },
    {
      "cell_type": "markdown",
      "metadata": {
        "id": "wRG3Mj5aKeHN"
      },
      "source": [
        "<table align=\"left\">\n",
        "  <td>\n",
        "    <a target=\"_blank\" href=\"https://colab.research.google.com/github/AbdelMahm/INPT-2020/blob/master/Notebooks_DL/ANN_with_keras.ipynb\"><img src=\"https://colab.research.google.com/img/colab_favicon_256px.png\" />Run in Google Colab</a>\n",
        "  </td>\n",
        "</table>"
      ]
    },
    {
      "cell_type": "markdown",
      "metadata": {
        "id": "kyFXK9akKeHO"
      },
      "source": [
        "# Setup"
      ]
    },
    {
      "cell_type": "code",
      "execution_count": 1,
      "metadata": {
        "id": "vipk0FaFKeHO"
      },
      "outputs": [],
      "source": [
        "#Firstly, let's import a few common modules, ensure MatplotLib plots figures inline and prepare a function to save the figures. We also check that Python 3.5 or later is installed (although Python 2.x may work, it is deprecated so we strongly recommend you use Python 3 instead), as well as Scikit-Learn ≥0.20 and TensorFlow ≥2.0."
      ]
    },
    {
      "cell_type": "code",
      "execution_count": 2,
      "metadata": {
        "id": "bh96TVGhKeHR"
      },
      "outputs": [],
      "source": [
        "# TensorFlow ≥2.0 is required\n",
        "import tensorflow as tf\n",
        "\n",
        "# Common imports\n",
        "import numpy as np\n",
        "import os\n",
        "\n",
        "# to make this notebook's output stable across runs\n",
        "np.random.seed(42)\n",
        "\n",
        "# To plot pretty figures\n",
        "%matplotlib inline\n",
        "import matplotlib as mpl\n",
        "import matplotlib.pyplot as plt\n",
        "mpl.rc('axes', labelsize=14)\n",
        "mpl.rc('xtick', labelsize=12)\n",
        "mpl.rc('ytick', labelsize=12)\n",
        "\n",
        "# Ignore useless warnings (see SciPy issue #5998)\n",
        "import warnings\n",
        "warnings.filterwarnings(action=\"ignore\", message=\"^internal gelsd\")"
      ]
    },
    {
      "cell_type": "markdown",
      "metadata": {
        "id": "xo6k5CmBKeHU"
      },
      "source": [
        "# Building an Image Classifier"
      ]
    },
    {
      "cell_type": "markdown",
      "metadata": {
        "id": "XVUbFSGgKeHV"
      },
      "source": [
        "First let's import TensorFlow and Keras."
      ]
    },
    {
      "cell_type": "code",
      "execution_count": 3,
      "metadata": {
        "collapsed": true,
        "id": "02ltfDk3KeHX"
      },
      "outputs": [],
      "source": [
        "import tensorflow as tf\n",
        "from tensorflow import keras"
      ]
    },
    {
      "cell_type": "code",
      "execution_count": 4,
      "metadata": {
        "id": "OIeIA7mWKeHZ",
        "outputId": "f1c13d71-22fa-447a-a81e-de4db14fc170",
        "colab": {
          "base_uri": "https://localhost:8080/",
          "height": 35
        }
      },
      "outputs": [
        {
          "output_type": "execute_result",
          "data": {
            "text/plain": [
              "'2.8.0'"
            ],
            "application/vnd.google.colaboratory.intrinsic+json": {
              "type": "string"
            }
          },
          "metadata": {},
          "execution_count": 4
        }
      ],
      "source": [
        "tf.__version__"
      ]
    },
    {
      "cell_type": "markdown",
      "metadata": {
        "id": "W5Mm6zJRKeHa"
      },
      "source": [
        "Let's start by loading the fashion MNIST dataset. Keras has a number of functions to load popular datasets in `keras.datasets`. The dataset is already split for you between a training set and a test set, but it can be useful to split the training set further to have a validation set:"
      ]
    },
    {
      "cell_type": "code",
      "execution_count": 5,
      "metadata": {
        "collapsed": true,
        "id": "yrmZajoSKeHb",
        "colab": {
          "base_uri": "https://localhost:8080/"
        },
        "outputId": "5ea9faae-97fc-4371-cfc5-6e0f4ff4130a"
      },
      "outputs": [
        {
          "output_type": "stream",
          "name": "stdout",
          "text": [
            "Downloading data from https://storage.googleapis.com/tensorflow/tf-keras-datasets/train-labels-idx1-ubyte.gz\n",
            "32768/29515 [=================================] - 0s 0us/step\n",
            "40960/29515 [=========================================] - 0s 0us/step\n",
            "Downloading data from https://storage.googleapis.com/tensorflow/tf-keras-datasets/train-images-idx3-ubyte.gz\n",
            "26427392/26421880 [==============================] - 1s 0us/step\n",
            "26435584/26421880 [==============================] - 1s 0us/step\n",
            "Downloading data from https://storage.googleapis.com/tensorflow/tf-keras-datasets/t10k-labels-idx1-ubyte.gz\n",
            "16384/5148 [===============================================================================================] - 0s 0us/step\n",
            "Downloading data from https://storage.googleapis.com/tensorflow/tf-keras-datasets/t10k-images-idx3-ubyte.gz\n",
            "4423680/4422102 [==============================] - 0s 0us/step\n",
            "4431872/4422102 [==============================] - 0s 0us/step\n"
          ]
        }
      ],
      "source": [
        "fashion_mnist = keras.datasets.fashion_mnist\n",
        "(X_train_full, y_train_full), (X_test, y_test) = fashion_mnist.load_data()"
      ]
    },
    {
      "cell_type": "markdown",
      "metadata": {
        "id": "-k-rhjiCKeHb"
      },
      "source": [
        "The training set contains 60,000 grayscale images, each 28x28 pixels:"
      ]
    },
    {
      "cell_type": "code",
      "execution_count": 6,
      "metadata": {
        "id": "KRY9Jio7KeHc",
        "outputId": "83d4a330-c2a2-4ade-9c84-d77014ce9359",
        "colab": {
          "base_uri": "https://localhost:8080/"
        }
      },
      "outputs": [
        {
          "output_type": "execute_result",
          "data": {
            "text/plain": [
              "(60000, 28, 28)"
            ]
          },
          "metadata": {},
          "execution_count": 6
        }
      ],
      "source": [
        "X_train_full.shape"
      ]
    },
    {
      "cell_type": "markdown",
      "metadata": {
        "id": "0VLr9iJwKeHc"
      },
      "source": [
        "Each pixel intensity is represented as a byte (0 to 255):"
      ]
    },
    {
      "cell_type": "code",
      "execution_count": 7,
      "metadata": {
        "id": "OpZzaMD2KeHd",
        "outputId": "00f8d6ce-5375-44bb-9724-4d26ab13de80",
        "colab": {
          "base_uri": "https://localhost:8080/"
        }
      },
      "outputs": [
        {
          "output_type": "execute_result",
          "data": {
            "text/plain": [
              "dtype('uint8')"
            ]
          },
          "metadata": {},
          "execution_count": 7
        }
      ],
      "source": [
        "X_train_full.dtype"
      ]
    },
    {
      "cell_type": "markdown",
      "metadata": {
        "id": "L8pkGIHSKeHd"
      },
      "source": [
        "Let's split the full training set into a validation set and a (smaller) training set. We also scale the pixel intensities down to the 0-1 range and convert them to floats, by dividing by 255."
      ]
    },
    {
      "cell_type": "code",
      "execution_count": 8,
      "metadata": {
        "collapsed": true,
        "id": "EizkNKXtKeHe"
      },
      "outputs": [],
      "source": [
        "X_valid, X_train = X_train_full[:5000] / 255., X_train_full[5000:] / 255.\n",
        "y_valid, y_train = y_train_full[:5000], y_train_full[5000:]\n",
        "X_test = X_test / 255."
      ]
    },
    {
      "cell_type": "markdown",
      "metadata": {
        "id": "3YRnJ4RWKeHe"
      },
      "source": [
        "You can plot an image using Matplotlib's `imshow()` function, with a `'binary'`\n",
        " color map:"
      ]
    },
    {
      "cell_type": "code",
      "execution_count": 9,
      "metadata": {
        "id": "LFR99U2FKeHf",
        "outputId": "1bfc4773-14c9-42a4-964c-1da15087e2a9",
        "colab": {
          "base_uri": "https://localhost:8080/",
          "height": 248
        }
      },
      "outputs": [
        {
          "output_type": "display_data",
          "data": {
            "text/plain": [
              "<Figure size 432x288 with 1 Axes>"
            ],
            "image/png": "[encoded data removed]"
          },
          "metadata": {
            "needs_background": "light"
          }
        }
      ],
      "source": [
        "plt.imshow(X_train[0], cmap=\"binary\")\n",
        "plt.axis('off')\n",
        "plt.show()"
      ]
    },
    {
      "cell_type": "markdown",
      "metadata": {
        "id": "ltG-vQijKeHf"
      },
      "source": [
        "The labels are the class IDs (represented as uint8), from 0 to 9:"
      ]
    },
    {
      "cell_type": "code",
      "execution_count": 10,
      "metadata": {
        "id": "RCn7DOFtKeHg",
        "outputId": "39dd9f43-9d65-4b41-f706-48d1d32bd9c9",
        "colab": {
          "base_uri": "https://localhost:8080/"
        }
      },
      "outputs": [
        {
          "output_type": "execute_result",
          "data": {
            "text/plain": [
              "array([4, 0, 7, ..., 3, 0, 5], dtype=uint8)"
            ]
          },
          "metadata": {},
          "execution_count": 10
        }
      ],
      "source": [
        "y_train"
      ]
    },
    {
      "cell_type": "markdown",
      "metadata": {
        "id": "bv8GJ1OaKeHg"
      },
      "source": [
        "Here are the corresponding class names:"
      ]
    },
    {
      "cell_type": "code",
      "execution_count": 11,
      "metadata": {
        "collapsed": true,
        "id": "bk7G1pFAKeHg"
      },
      "outputs": [],
      "source": [
        "class_names = [\"T-shirt/top\", \"Trouser\", \"Pullover\", \"Dress\", \"Coat\",\n",
        "               \"Sandal\", \"Shirt\", \"Sneaker\", \"Bag\", \"Ankle boot\"]"
      ]
    },
    {
      "cell_type": "markdown",
      "metadata": {
        "id": "EzAi6dD4KeHh"
      },
      "source": [
        "So the first image in the training set is a coat:"
      ]
    },
    {
      "cell_type": "code",
      "execution_count": 12,
      "metadata": {
        "id": "mWyCvTxUKeHh",
        "outputId": "3ba18c7b-dbfb-4985-8671-caae0ef783c9",
        "colab": {
          "base_uri": "https://localhost:8080/",
          "height": 35
        }
      },
      "outputs": [
        {
          "output_type": "execute_result",
          "data": {
            "text/plain": [
              "'Coat'"
            ],
            "application/vnd.google.colaboratory.intrinsic+json": {
              "type": "string"
            }
          },
          "metadata": {},
          "execution_count": 12
        }
      ],
      "source": [
        "class_names[y_train[0]]"
      ]
    },
    {
      "cell_type": "markdown",
      "metadata": {
        "id": "RCi81xgyKeHh"
      },
      "source": [
        "The validation set contains 5,000 images, and the test set contains 10,000 images:"
      ]
    },
    {
      "cell_type": "code",
      "execution_count": 13,
      "metadata": {
        "id": "8qwbGgMPKeHh",
        "outputId": "2c67dddc-8d0e-4c2a-f98c-020f4574d1c8",
        "colab": {
          "base_uri": "https://localhost:8080/"
        }
      },
      "outputs": [
        {
          "output_type": "execute_result",
          "data": {
            "text/plain": [
              "(5000, 28, 28)"
            ]
          },
          "metadata": {},
          "execution_count": 13
        }
      ],
      "source": [
        "X_valid.shape"
      ]
    },
    {
      "cell_type": "code",
      "execution_count": 14,
      "metadata": {
        "id": "oEEDzbgcKeHh",
        "outputId": "d967fea4-64e6-441a-9415-6580b26c1c35",
        "colab": {
          "base_uri": "https://localhost:8080/"
        }
      },
      "outputs": [
        {
          "output_type": "execute_result",
          "data": {
            "text/plain": [
              "(10000, 28, 28)"
            ]
          },
          "metadata": {},
          "execution_count": 14
        }
      ],
      "source": [
        "X_test.shape"
      ]
    },
    {
      "cell_type": "markdown",
      "metadata": {
        "id": "z7nPSneNKeHi"
      },
      "source": [
        "Let's take a look at a sample of the images in the dataset:"
      ]
    },
    {
      "cell_type": "code",
      "execution_count": 15,
      "metadata": {
        "id": "DWth3kv_KeHi",
        "outputId": "7182b1ea-b9d3-4827-b3fb-67f1c52db4b6",
        "colab": {
          "base_uri": "https://localhost:8080/",
          "height": 308
        }
      },
      "outputs": [
        {
          "output_type": "display_data",
          "data": {
            "text/plain": [
              "<Figure size 864x345.6 with 40 Axes>"
            ],
            "image/png": "[encoded data removed]"
          },
          "metadata": {
            "needs_background": "light"
          }
        }
      ],
      "source": [
        "n_rows = 4\n",
        "n_cols = 10\n",
        "plt.figure(figsize=(n_cols * 1.2, n_rows * 1.2))\n",
        "for row in range(n_rows):\n",
        "    for col in range(n_cols):\n",
        "        index = n_cols * row + col\n",
        "        plt.subplot(n_rows, n_cols, index + 1)\n",
        "        plt.imshow(X_train[index], cmap=\"binary\", interpolation=\"nearest\")\n",
        "        plt.axis('off')\n",
        "        plt.title(class_names[y_train[index]], fontsize=12)\n",
        "plt.subplots_adjust(wspace=0.2, hspace=0.5)\n",
        "plt.show()"
      ]
    },
    {
      "cell_type": "markdown",
      "metadata": {
        "id": "mV7kLgqMKeHi"
      },
      "source": [
        "## Construct a Model"
      ]
    },
    {
      "cell_type": "code",
      "execution_count": 16,
      "metadata": {
        "collapsed": true,
        "id": "5B11rYlTKeHi"
      },
      "outputs": [],
      "source": [
        "model = keras.models.Sequential()\n",
        "model.add(keras.layers.Flatten(input_shape=[28, 28]))\n",
        "model.add(keras.layers.Dense(300, activation=\"relu\"))\n",
        "model.add(keras.layers.Dense(100, activation=\"relu\"))\n",
        "model.add(keras.layers.Dense(10, activation=\"softmax\"))"
      ]
    },
    {
      "cell_type": "code",
      "execution_count": 17,
      "metadata": {
        "collapsed": true,
        "id": "xgZphJPaKeHj"
      },
      "outputs": [],
      "source": [
        "keras.backend.clear_session()\n",
        "np.random.seed(42)"
      ]
    },
    {
      "cell_type": "markdown",
      "metadata": {
        "id": "9IVOpMUcKeHj"
      },
      "source": [
        "### or using the folowing method"
      ]
    },
    {
      "cell_type": "code",
      "execution_count": 18,
      "metadata": {
        "collapsed": true,
        "id": "OSWPMHbGKeHj"
      },
      "outputs": [],
      "source": [
        "model = keras.models.Sequential([\n",
        "    keras.layers.Flatten(input_shape=[28, 28]),\n",
        "    keras.layers.Dense(300, activation=\"relu\"),\n",
        "    keras.layers.Dense(100, activation=\"relu\"),\n",
        "    keras.layers.Dense(10, activation=\"softmax\")\n",
        "])"
      ]
    },
    {
      "cell_type": "code",
      "execution_count": 19,
      "metadata": {
        "id": "4OmKx1akKeHk",
        "outputId": "f08f7e17-d0f3-42ca-fdab-6ed208e08cab",
        "colab": {
          "base_uri": "https://localhost:8080/"
        }
      },
      "outputs": [
        {
          "output_type": "execute_result",
          "data": {
            "text/plain": [
              "[<keras.layers.core.flatten.Flatten at 0x7f0922c0d990>,\n",
              " <keras.layers.core.dense.Dense at 0x7f0922c0dcd0>,\n",
              " <keras.layers.core.dense.Dense at 0x7f092360be50>,\n",
              " <keras.layers.core.dense.Dense at 0x7f0922c15b90>]"
            ]
          },
          "metadata": {},
          "execution_count": 19
        }
      ],
      "source": [
        "model.layers"
      ]
    },
    {
      "cell_type": "code",
      "execution_count": 20,
      "metadata": {
        "id": "WEPICKg0KeHk",
        "outputId": "6d302cd6-8fcb-4b43-c695-ee181a1fde1b",
        "colab": {
          "base_uri": "https://localhost:8080/"
        }
      },
      "outputs": [
        {
          "output_type": "stream",
          "name": "stdout",
          "text": [
            "Model: \"sequential\"\n",
            "_________________________________________________________________\n",
            " Layer (type)                Output Shape              Param #   \n",
            "=================================================================\n",
            " flatten (Flatten)           (None, 784)               0         \n",
            "                                                                 \n",
            " dense (Dense)               (None, 300)               235500    \n",
            "                                                                 \n",
            " dense_1 (Dense)             (None, 100)               30100     \n",
            "                                                                 \n",
            " dense_2 (Dense)             (None, 10)                1010      \n",
            "                                                                 \n",
            "=================================================================\n",
            "Total params: 266,610\n",
            "Trainable params: 266,610\n",
            "Non-trainable params: 0\n",
            "_________________________________________________________________\n"
          ]
        }
      ],
      "source": [
        "model.summary()"
      ]
    },
    {
      "cell_type": "code",
      "execution_count": 21,
      "metadata": {
        "collapsed": true,
        "id": "eTYlsWR-KeHk"
      },
      "outputs": [],
      "source": [
        "#keras.utils.plot_model(model, \"my_mnist_model.png\", show_shapes=True)"
      ]
    },
    {
      "cell_type": "code",
      "execution_count": 22,
      "metadata": {
        "id": "4Ri8kUyLKeHk",
        "outputId": "0d03598c-dd7b-46bc-a920-35eedad00406",
        "colab": {
          "base_uri": "https://localhost:8080/",
          "height": 35
        }
      },
      "outputs": [
        {
          "output_type": "execute_result",
          "data": {
            "text/plain": [
              "'dense'"
            ],
            "application/vnd.google.colaboratory.intrinsic+json": {
              "type": "string"
            }
          },
          "metadata": {},
          "execution_count": 22
        }
      ],
      "source": [
        "hidden1 = model.layers[1]\n",
        "hidden1.name"
      ]
    },
    {
      "cell_type": "code",
      "execution_count": 23,
      "metadata": {
        "id": "wIeE7OSqKeHl",
        "outputId": "60d537ed-5ced-4932-a8db-7be55d12f8ce",
        "colab": {
          "base_uri": "https://localhost:8080/"
        }
      },
      "outputs": [
        {
          "output_type": "execute_result",
          "data": {
            "text/plain": [
              "True"
            ]
          },
          "metadata": {},
          "execution_count": 23
        }
      ],
      "source": [
        "model.get_layer(hidden1.name) is hidden1"
      ]
    },
    {
      "cell_type": "code",
      "execution_count": 24,
      "metadata": {
        "collapsed": true,
        "id": "yCo2degNKeHl"
      },
      "outputs": [],
      "source": [
        "weights, biases = hidden1.get_weights()"
      ]
    },
    {
      "cell_type": "code",
      "execution_count": 25,
      "metadata": {
        "id": "XmOwrzhjKeHl",
        "outputId": "5750fb24-7669-4118-fcb7-e5b8a54b3b28",
        "colab": {
          "base_uri": "https://localhost:8080/"
        }
      },
      "outputs": [
        {
          "output_type": "execute_result",
          "data": {
            "text/plain": [
              "array([[-0.05572131, -0.0463253 , -0.02082907, ..., -0.04991115,\n",
              "         0.02627186,  0.01198825],\n",
              "       [-0.0613767 ,  0.01028267, -0.00473595, ...,  0.04029677,\n",
              "        -0.01891788,  0.07275608],\n",
              "       [-0.03220116,  0.06411014,  0.01702672, ...,  0.04388315,\n",
              "         0.04586484,  0.06742904],\n",
              "       ...,\n",
              "       [-0.04735714,  0.06818078,  0.04816707, ...,  0.05729114,\n",
              "        -0.06736661, -0.07093111],\n",
              "       [ 0.06844217,  0.01723997,  0.05978182, ...,  0.06262094,\n",
              "         0.07162441,  0.0470953 ],\n",
              "       [ 0.05672243, -0.01404973, -0.03634468, ..., -0.03994155,\n",
              "         0.05836637,  0.01111639]], dtype=float32)"
            ]
          },
          "metadata": {},
          "execution_count": 25
        }
      ],
      "source": [
        "weights"
      ]
    },
    {
      "cell_type": "code",
      "execution_count": 26,
      "metadata": {
        "id": "Umqki1O_KeHl",
        "outputId": "3921663c-115d-452c-c18e-1e3f20d4b3ab",
        "colab": {
          "base_uri": "https://localhost:8080/"
        }
      },
      "outputs": [
        {
          "output_type": "execute_result",
          "data": {
            "text/plain": [
              "(784, 300)"
            ]
          },
          "metadata": {},
          "execution_count": 26
        }
      ],
      "source": [
        "weights.shape"
      ]
    },
    {
      "cell_type": "code",
      "execution_count": 27,
      "metadata": {
        "id": "N3M-o5wCKeHl",
        "outputId": "b76a7c43-b1df-4124-a594-a5c691d3efde",
        "colab": {
          "base_uri": "https://localhost:8080/"
        }
      },
      "outputs": [
        {
          "output_type": "execute_result",
          "data": {
            "text/plain": [
              "array([0., 0., 0., 0., 0., 0., 0., 0., 0., 0., 0., 0., 0., 0., 0., 0., 0.,\n",
              "       0., 0., 0., 0., 0., 0., 0., 0., 0., 0., 0., 0., 0., 0., 0., 0., 0.,\n",
              "       0., 0., 0., 0., 0., 0., 0., 0., 0., 0., 0., 0., 0., 0., 0., 0., 0.,\n",
              "       0., 0., 0., 0., 0., 0., 0., 0., 0., 0., 0., 0., 0., 0., 0., 0., 0.,\n",
              "       0., 0., 0., 0., 0., 0., 0., 0., 0., 0., 0., 0., 0., 0., 0., 0., 0.,\n",
              "       0., 0., 0., 0., 0., 0., 0., 0., 0., 0., 0., 0., 0., 0., 0., 0., 0.,\n",
              "       0., 0., 0., 0., 0., 0., 0., 0., 0., 0., 0., 0., 0., 0., 0., 0., 0.,\n",
              "       0., 0., 0., 0., 0., 0., 0., 0., 0., 0., 0., 0., 0., 0., 0., 0., 0.,\n",
              "       0., 0., 0., 0., 0., 0., 0., 0., 0., 0., 0., 0., 0., 0., 0., 0., 0.,\n",
              "       0., 0., 0., 0., 0., 0., 0., 0., 0., 0., 0., 0., 0., 0., 0., 0., 0.,\n",
              "       0., 0., 0., 0., 0., 0., 0., 0., 0., 0., 0., 0., 0., 0., 0., 0., 0.,\n",
              "       0., 0., 0., 0., 0., 0., 0., 0., 0., 0., 0., 0., 0., 0., 0., 0., 0.,\n",
              "       0., 0., 0., 0., 0., 0., 0., 0., 0., 0., 0., 0., 0., 0., 0., 0., 0.,\n",
              "       0., 0., 0., 0., 0., 0., 0., 0., 0., 0., 0., 0., 0., 0., 0., 0., 0.,\n",
              "       0., 0., 0., 0., 0., 0., 0., 0., 0., 0., 0., 0., 0., 0., 0., 0., 0.,\n",
              "       0., 0., 0., 0., 0., 0., 0., 0., 0., 0., 0., 0., 0., 0., 0., 0., 0.,\n",
              "       0., 0., 0., 0., 0., 0., 0., 0., 0., 0., 0., 0., 0., 0., 0., 0., 0.,\n",
              "       0., 0., 0., 0., 0., 0., 0., 0., 0., 0., 0.], dtype=float32)"
            ]
          },
          "metadata": {},
          "execution_count": 27
        }
      ],
      "source": [
        "biases"
      ]
    },
    {
      "cell_type": "code",
      "execution_count": 28,
      "metadata": {
        "id": "A5wNKlvVKeHm",
        "outputId": "5d68e9e9-ef6d-47a3-f3a9-0c0e65ea1d68",
        "colab": {
          "base_uri": "https://localhost:8080/"
        }
      },
      "outputs": [
        {
          "output_type": "execute_result",
          "data": {
            "text/plain": [
              "(300,)"
            ]
          },
          "metadata": {},
          "execution_count": 28
        }
      ],
      "source": [
        "biases.shape"
      ]
    },
    {
      "cell_type": "markdown",
      "metadata": {
        "id": "Qjvxrl06KeHm"
      },
      "source": [
        "### Compile the Model\n",
        "Here you can chose the loss function, the optimizer, the performance metric, etc. check Keras documentation for further details."
      ]
    },
    {
      "cell_type": "code",
      "execution_count": 29,
      "metadata": {
        "collapsed": true,
        "id": "y-hpbDByKeHm"
      },
      "outputs": [],
      "source": [
        "model.compile(loss=\"sparse_categorical_crossentropy\",\n",
        "              optimizer=\"sgd\",\n",
        "              metrics=[\"accuracy\"])"
      ]
    },
    {
      "cell_type": "markdown",
      "metadata": {
        "id": "1FAeip_HKeHm"
      },
      "source": [
        "This is equivalent to:"
      ]
    },
    {
      "cell_type": "markdown",
      "metadata": {
        "id": "WdjODVb-KeHm"
      },
      "source": [
        "```python\n",
        "model.compile(loss=keras.losses.sparse_categorical_crossentropy,\n",
        "              optimizer=keras.optimizers.SGD(),\n",
        "              metrics=[keras.metrics.sparse_categorical_accuracy])\n",
        "```"
      ]
    },
    {
      "cell_type": "markdown",
      "metadata": {
        "id": "wier6S9sKeHn"
      },
      "source": [
        "### Train the model\n",
        "Here you can chose how many epochs you need and the batch size."
      ]
    },
    {
      "cell_type": "code",
      "execution_count": 30,
      "metadata": {
        "id": "sybtqx_5KeHn",
        "outputId": "3d933261-79f4-49f8-a541-af4b309d6271",
        "colab": {
          "base_uri": "https://localhost:8080/"
        }
      },
      "outputs": [
        {
          "output_type": "stream",
          "name": "stdout",
          "text": [
            "Epoch 1/30\n",
            "1719/1719 [==============================] - 8s 3ms/step - loss: 0.7148 - accuracy: 0.7664 - val_loss: 0.5114 - val_accuracy: 0.8254\n",
            "Epoch 2/30\n",
            "1719/1719 [==============================] - 4s 3ms/step - loss: 0.4846 - accuracy: 0.8312 - val_loss: 0.4469 - val_accuracy: 0.8466\n",
            "Epoch 3/30\n",
            "1719/1719 [==============================] - 4s 3ms/step - loss: 0.4397 - accuracy: 0.8462 - val_loss: 0.4046 - val_accuracy: 0.8608\n",
            "Epoch 4/30\n",
            "1719/1719 [==============================] - 4s 3ms/step - loss: 0.4128 - accuracy: 0.8559 - val_loss: 0.3955 - val_accuracy: 0.8616\n",
            "Epoch 5/30\n",
            "1719/1719 [==============================] - 4s 3ms/step - loss: 0.3939 - accuracy: 0.8611 - val_loss: 0.3739 - val_accuracy: 0.8718\n",
            "Epoch 6/30\n",
            "1719/1719 [==============================] - 4s 3ms/step - loss: 0.3764 - accuracy: 0.8674 - val_loss: 0.3661 - val_accuracy: 0.8744\n",
            "Epoch 7/30\n",
            "1719/1719 [==============================] - 4s 3ms/step - loss: 0.3627 - accuracy: 0.8733 - val_loss: 0.3657 - val_accuracy: 0.8664\n",
            "Epoch 8/30\n",
            "1719/1719 [==============================] - 4s 3ms/step - loss: 0.3516 - accuracy: 0.8750 - val_loss: 0.3682 - val_accuracy: 0.8716\n",
            "Epoch 9/30\n",
            "1719/1719 [==============================] - 4s 3ms/step - loss: 0.3421 - accuracy: 0.8775 - val_loss: 0.3479 - val_accuracy: 0.8758\n",
            "Epoch 10/30\n",
            "1719/1719 [==============================] - 4s 3ms/step - loss: 0.3325 - accuracy: 0.8815 - val_loss: 0.3472 - val_accuracy: 0.8752\n",
            "Epoch 11/30\n",
            "1719/1719 [==============================] - 5s 3ms/step - loss: 0.3250 - accuracy: 0.8834 - val_loss: 0.3285 - val_accuracy: 0.8808\n",
            "Epoch 12/30\n",
            "1719/1719 [==============================] - 5s 3ms/step - loss: 0.3165 - accuracy: 0.8873 - val_loss: 0.3279 - val_accuracy: 0.8824\n",
            "Epoch 13/30\n",
            "1719/1719 [==============================] - 4s 3ms/step - loss: 0.3090 - accuracy: 0.8904 - val_loss: 0.3306 - val_accuracy: 0.8812\n",
            "Epoch 14/30\n",
            "1719/1719 [==============================] - 4s 3ms/step - loss: 0.3018 - accuracy: 0.8922 - val_loss: 0.3293 - val_accuracy: 0.8800\n",
            "Epoch 15/30\n",
            "1719/1719 [==============================] - 4s 3ms/step - loss: 0.2966 - accuracy: 0.8941 - val_loss: 0.3287 - val_accuracy: 0.8810\n",
            "Epoch 16/30\n",
            "1719/1719 [==============================] - 4s 3ms/step - loss: 0.2903 - accuracy: 0.8957 - val_loss: 0.3219 - val_accuracy: 0.8822\n",
            "Epoch 17/30\n",
            "1719/1719 [==============================] - 4s 3ms/step - loss: 0.2841 - accuracy: 0.8979 - val_loss: 0.3118 - val_accuracy: 0.8894\n",
            "Epoch 18/30\n",
            "1719/1719 [==============================] - 4s 3ms/step - loss: 0.2792 - accuracy: 0.8998 - val_loss: 0.3065 - val_accuracy: 0.8882\n",
            "Epoch 19/30\n",
            "1719/1719 [==============================] - 4s 3ms/step - loss: 0.2740 - accuracy: 0.9011 - val_loss: 0.3059 - val_accuracy: 0.8918\n",
            "Epoch 20/30\n",
            "1719/1719 [==============================] - 4s 3ms/step - loss: 0.2690 - accuracy: 0.9024 - val_loss: 0.3150 - val_accuracy: 0.8872\n",
            "Epoch 21/30\n",
            "1719/1719 [==============================] - 4s 3ms/step - loss: 0.2642 - accuracy: 0.9050 - val_loss: 0.3120 - val_accuracy: 0.8856\n",
            "Epoch 22/30\n",
            "1719/1719 [==============================] - 4s 3ms/step - loss: 0.2585 - accuracy: 0.9069 - val_loss: 0.3113 - val_accuracy: 0.8854\n",
            "Epoch 23/30\n",
            "1719/1719 [==============================] - 4s 3ms/step - loss: 0.2541 - accuracy: 0.9086 - val_loss: 0.3230 - val_accuracy: 0.8816\n",
            "Epoch 24/30\n",
            "1719/1719 [==============================] - 4s 3ms/step - loss: 0.2510 - accuracy: 0.9098 - val_loss: 0.3064 - val_accuracy: 0.8862\n",
            "Epoch 25/30\n",
            "1719/1719 [==============================] - 4s 3ms/step - loss: 0.2459 - accuracy: 0.9110 - val_loss: 0.3137 - val_accuracy: 0.8856\n",
            "Epoch 26/30\n",
            "1719/1719 [==============================] - 5s 3ms/step - loss: 0.2414 - accuracy: 0.9135 - val_loss: 0.2964 - val_accuracy: 0.8940\n",
            "Epoch 27/30\n",
            "1719/1719 [==============================] - 4s 3ms/step - loss: 0.2373 - accuracy: 0.9150 - val_loss: 0.3093 - val_accuracy: 0.8886\n",
            "Epoch 28/30\n",
            "1719/1719 [==============================] - 4s 3ms/step - loss: 0.2347 - accuracy: 0.9165 - val_loss: 0.2971 - val_accuracy: 0.8958\n",
            "Epoch 29/30\n",
            "1719/1719 [==============================] - 4s 3ms/step - loss: 0.2295 - accuracy: 0.9171 - val_loss: 0.3137 - val_accuracy: 0.8858\n",
            "Epoch 30/30\n",
            "1719/1719 [==============================] - 4s 3ms/step - loss: 0.2272 - accuracy: 0.9178 - val_loss: 0.2974 - val_accuracy: 0.8928\n"
          ]
        }
      ],
      "source": [
        "history = model.fit(X_train, y_train, batch_size=32, epochs=30,\n",
        "                    validation_data=(X_valid, y_valid))"
      ]
    },
    {
      "cell_type": "code",
      "execution_count": 31,
      "metadata": {
        "id": "OFagZzoEKeHn",
        "outputId": "02a42ca5-a980-4159-8305-09d84a66603f",
        "colab": {
          "base_uri": "https://localhost:8080/"
        }
      },
      "outputs": [
        {
          "output_type": "execute_result",
          "data": {
            "text/plain": [
              "{'epochs': 30, 'steps': 1719, 'verbose': 1}"
            ]
          },
          "metadata": {},
          "execution_count": 31
        }
      ],
      "source": [
        "history.params"
      ]
    },
    {
      "cell_type": "code",
      "execution_count": 32,
      "metadata": {
        "id": "wsPkojsBKeHn",
        "outputId": "ec49a614-f677-41cd-9c93-2c9a6ff491e6",
        "colab": {
          "base_uri": "https://localhost:8080/"
        }
      },
      "outputs": [
        {
          "output_type": "stream",
          "name": "stdout",
          "text": [
            "[0, 1, 2, 3, 4, 5, 6, 7, 8, 9, 10, 11, 12, 13, 14, 15, 16, 17, 18, 19, 20, 21, 22, 23, 24, 25, 26, 27, 28, 29]\n"
          ]
        }
      ],
      "source": [
        "print(history.epoch)"
      ]
    },
    {
      "cell_type": "code",
      "execution_count": 33,
      "metadata": {
        "id": "0zLZE-KSKeHn",
        "outputId": "3512029e-4e20-483b-be67-41bfb2d425c4",
        "colab": {
          "base_uri": "https://localhost:8080/"
        }
      },
      "outputs": [
        {
          "output_type": "execute_result",
          "data": {
            "text/plain": [
              "dict_keys(['loss', 'accuracy', 'val_loss', 'val_accuracy'])"
            ]
          },
          "metadata": {},
          "execution_count": 33
        }
      ],
      "source": [
        "history.history.keys()"
      ]
    },
    {
      "cell_type": "markdown",
      "metadata": {
        "id": "i2k4H2nqKeHn"
      },
      "source": [
        "### Plot learning Curves"
      ]
    },
    {
      "cell_type": "code",
      "execution_count": 34,
      "metadata": {
        "id": "DDaZi4TfKeHo",
        "outputId": "7e9030fe-8b32-4cea-a51f-1da77c7a5cd5",
        "colab": {
          "base_uri": "https://localhost:8080/",
          "height": 0
        }
      },
      "outputs": [
        {
          "output_type": "display_data",
          "data": {
            "text/plain": [
              "<Figure size 576x360 with 1 Axes>"
            ],
            "image/png": "[encoded data removed]"
          },
          "metadata": {
            "needs_background": "light"
          }
        }
      ],
      "source": [
        "import pandas as pd\n",
        "\n",
        "pd.DataFrame(history.history).plot(figsize=(8, 5))\n",
        "plt.grid(True)\n",
        "plt.gca().set_ylim(0, 1)\n",
        "plt.show()"
      ]
    },
    {
      "cell_type": "code",
      "execution_count": 35,
      "metadata": {
        "id": "0DTOSDyGKeHo",
        "outputId": "b883eea2-be32-4393-f166-a1da6b3471b9",
        "colab": {
          "base_uri": "https://localhost:8080/"
        }
      },
      "outputs": [
        {
          "output_type": "stream",
          "name": "stdout",
          "text": [
            "313/313 [==============================] - 1s 2ms/step - loss: 0.3277 - accuracy: 0.8848\n"
          ]
        },
        {
          "output_type": "execute_result",
          "data": {
            "text/plain": [
              "[0.327682763338089, 0.8848000168800354]"
            ]
          },
          "metadata": {},
          "execution_count": 35
        }
      ],
      "source": [
        "model.evaluate(X_test, y_test)"
      ]
    },
    {
      "cell_type": "code",
      "execution_count": 36,
      "metadata": {
        "id": "RSnUP8U_KeHo",
        "outputId": "ba27142c-7669-4c82-8cd6-7b3b2decb440",
        "colab": {
          "base_uri": "https://localhost:8080/"
        }
      },
      "outputs": [
        {
          "output_type": "execute_result",
          "data": {
            "text/plain": [
              "array([[0.  , 0.  , 0.  , 0.  , 0.  , 0.  , 0.  , 0.01, 0.  , 0.99],\n",
              "       [0.  , 0.  , 1.  , 0.  , 0.  , 0.  , 0.  , 0.  , 0.  , 0.  ],\n",
              "       [0.  , 1.  , 0.  , 0.  , 0.  , 0.  , 0.  , 0.  , 0.  , 0.  ]],\n",
              "      dtype=float32)"
            ]
          },
          "metadata": {},
          "execution_count": 36
        }
      ],
      "source": [
        "X_new = X_test[:3]\n",
        "y_proba = model.predict(X_new)\n",
        "y_proba.round(2)"
      ]
    },
    {
      "cell_type": "code",
      "execution_count": 37,
      "metadata": {
        "id": "Yfb60HH5KeHp",
        "outputId": "774eb979-db0a-4bb0-da05-6dd3ac0c1a2e",
        "colab": {
          "base_uri": "https://localhost:8080/"
        }
      },
      "outputs": [
        {
          "output_type": "execute_result",
          "data": {
            "text/plain": [
              "array([9, 2, 1])"
            ]
          },
          "metadata": {},
          "execution_count": 37
        }
      ],
      "source": [
        "y_pred = np.argmax(model.predict(X_new), axis=-1)\n",
        "y_pred"
      ]
    },
    {
      "cell_type": "code",
      "execution_count": 38,
      "metadata": {
        "id": "dMhhNSm1KeHp",
        "outputId": "e069eca3-10b8-425e-b73b-e622bd5feee2",
        "colab": {
          "base_uri": "https://localhost:8080/"
        }
      },
      "outputs": [
        {
          "output_type": "execute_result",
          "data": {
            "text/plain": [
              "array(['Ankle boot', 'Pullover', 'Trouser'], dtype='<U11')"
            ]
          },
          "metadata": {},
          "execution_count": 38
        }
      ],
      "source": [
        "np.array(class_names)[y_pred]"
      ]
    },
    {
      "cell_type": "code",
      "execution_count": 39,
      "metadata": {
        "id": "DjcCWD9BKeHp",
        "outputId": "f1b1f99e-d390-4b36-c9f1-012e8a31d141",
        "colab": {
          "base_uri": "https://localhost:8080/"
        }
      },
      "outputs": [
        {
          "output_type": "execute_result",
          "data": {
            "text/plain": [
              "array([9, 2, 1], dtype=uint8)"
            ]
          },
          "metadata": {},
          "execution_count": 39
        }
      ],
      "source": [
        "y_new = y_test[:3]\n",
        "y_new"
      ]
    },
    {
      "cell_type": "code",
      "execution_count": 40,
      "metadata": {
        "id": "gRUIvUl8KeHq",
        "outputId": "85169b56-f63b-48ad-e31c-b0a217203659",
        "colab": {
          "base_uri": "https://localhost:8080/",
          "height": 0
        }
      },
      "outputs": [
        {
          "output_type": "display_data",
          "data": {
            "text/plain": [
              "<Figure size 518.4x172.8 with 3 Axes>"
            ],
            "image/png": "[encoded data removed]"
          },
          "metadata": {
            "needs_background": "light"
          }
        }
      ],
      "source": [
        "plt.figure(figsize=(7.2, 2.4))\n",
        "for index, image in enumerate(X_new):\n",
        "    plt.subplot(1, 3, index + 1)\n",
        "    plt.imshow(image, cmap=\"binary\", interpolation=\"nearest\")\n",
        "    plt.axis('off')\n",
        "    plt.title(class_names[y_test[index]], fontsize=12)\n",
        "plt.subplots_adjust(wspace=0.2, hspace=0.5)\n",
        "plt.show()"
      ]
    },
    {
      "cell_type": "markdown",
      "metadata": {
        "collapsed": true,
        "id": "m3jgpDsjKeHq"
      },
      "source": [
        "\n",
        "## Exercise"
      ]
    },
    {
      "cell_type": "markdown",
      "metadata": {
        "id": "KDiRlN6sKeHq"
      },
      "source": [
        "#### 1) Plot Learning curves when using different optimizers\n",
        "#### 2) Plot Learning curves when using different batch size\n",
        "#### 3) Plot Learning curves when using different number of epochs\n",
        "#### 4) Add additional neurons and use Dropout Layer. Plot Learning curves.\n",
        "#### 5) Use Batch Normalisation\n",
        "#### 6) repeat with more layers\n",
        "#### 7) apply on different datasets"
      ]
    },
    {
      "cell_type": "markdown",
      "source": [
        "## Apply more layers"
      ],
      "metadata": {
        "id": "88pMTDtuQ5Ql"
      }
    },
    {
      "cell_type": "code",
      "source": [
        "model = keras.models.Sequential()\n",
        "model.add(keras.layers.Flatten(input_shape=[28, 28]))\n",
        "model.add(keras.layers.Dense(300, activation=\"relu\"))\n",
        "model.add(keras.layers.Dense(200, activation=\"relu\"))\n",
        "model.add(keras.layers.Dense(100, activation=\"relu\"))\n",
        "model.add(keras.layers.Dense(100, activation=\"relu\"))\n",
        "model.add(keras.layers.Dense(10, activation=\"softmax\"))\n",
        "model.add(keras.layers.Dense(10, activation=\"softmax\"))"
      ],
      "metadata": {
        "id": "9lb9tBbfMYea"
      },
      "execution_count": 41,
      "outputs": []
    },
    {
      "cell_type": "markdown",
      "source": [
        "## Using different optimizers\n"
      ],
      "metadata": {
        "id": "Loa-bd1JRZcr"
      }
    },
    {
      "cell_type": "code",
      "source": [
        "model.compile(loss=\"sparse_categorical_crossentropy\",\n",
        "              optimizer=\"adam\",\n",
        "              metrics=[\"accuracy\"])"
      ],
      "metadata": {
        "id": "mvWLrS6-RdTD"
      },
      "execution_count": 42,
      "outputs": []
    },
    {
      "cell_type": "markdown",
      "source": [
        "## Training using different different batch size & number of epochs"
      ],
      "metadata": {
        "id": "XES7neWPNTaB"
      }
    },
    {
      "cell_type": "code",
      "source": [
        "history = model.fit(X_train, y_train, batch_size=48, epochs=40,\n",
        "                    validation_data = (X_valid, y_valid))\n"
      ],
      "metadata": {
        "id": "62lhq6Y8UcTz",
        "colab": {
          "base_uri": "https://localhost:8080/"
        },
        "outputId": "274f7545-5ab4-4489-bcfe-80b2445d7d9b"
      },
      "execution_count": 43,
      "outputs": [
        {
          "output_type": "stream",
          "name": "stdout",
          "text": [
            "Epoch 1/40\n",
            "1146/1146 [==============================] - 4s 3ms/step - loss: 1.6895 - accuracy: 0.3542 - val_loss: 1.4519 - val_accuracy: 0.3796\n",
            "Epoch 2/40\n",
            "1146/1146 [==============================] - 4s 3ms/step - loss: 1.3368 - accuracy: 0.3875 - val_loss: 1.2620 - val_accuracy: 0.4162\n",
            "Epoch 3/40\n",
            "1146/1146 [==============================] - 3s 3ms/step - loss: 1.2086 - accuracy: 0.4121 - val_loss: 1.1714 - val_accuracy: 0.4362\n",
            "Epoch 4/40\n",
            "1146/1146 [==============================] - 4s 3ms/step - loss: 1.1123 - accuracy: 0.4669 - val_loss: 1.0279 - val_accuracy: 0.4952\n",
            "Epoch 5/40\n",
            "1146/1146 [==============================] - 3s 3ms/step - loss: 0.9673 - accuracy: 0.5535 - val_loss: 0.9084 - val_accuracy: 0.6026\n",
            "Epoch 6/40\n",
            "1146/1146 [==============================] - 3s 3ms/step - loss: 0.8479 - accuracy: 0.6469 - val_loss: 0.7481 - val_accuracy: 0.7110\n",
            "Epoch 7/40\n",
            "1146/1146 [==============================] - 6s 5ms/step - loss: 0.6953 - accuracy: 0.7206 - val_loss: 0.6630 - val_accuracy: 0.7188\n",
            "Epoch 8/40\n",
            "1146/1146 [==============================] - 4s 4ms/step - loss: 0.6055 - accuracy: 0.7964 - val_loss: 0.5537 - val_accuracy: 0.8168\n",
            "Epoch 9/40\n",
            "1146/1146 [==============================] - 4s 3ms/step - loss: 0.5284 - accuracy: 0.8271 - val_loss: 0.5035 - val_accuracy: 0.8490\n",
            "Epoch 10/40\n",
            "1146/1146 [==============================] - 4s 3ms/step - loss: 0.4805 - accuracy: 0.8467 - val_loss: 0.4799 - val_accuracy: 0.8386\n",
            "Epoch 11/40\n",
            "1146/1146 [==============================] - 3s 3ms/step - loss: 0.4442 - accuracy: 0.8678 - val_loss: 0.4380 - val_accuracy: 0.8726\n",
            "Epoch 12/40\n",
            "1146/1146 [==============================] - 4s 3ms/step - loss: 0.4022 - accuracy: 0.8859 - val_loss: 0.4164 - val_accuracy: 0.8758\n",
            "Epoch 13/40\n",
            "1146/1146 [==============================] - 4s 3ms/step - loss: 0.3649 - accuracy: 0.8951 - val_loss: 0.3913 - val_accuracy: 0.8816\n",
            "Epoch 14/40\n",
            "1146/1146 [==============================] - 3s 3ms/step - loss: 0.3424 - accuracy: 0.8974 - val_loss: 0.3544 - val_accuracy: 0.8906\n",
            "Epoch 15/40\n",
            "1146/1146 [==============================] - 4s 3ms/step - loss: 0.3212 - accuracy: 0.9014 - val_loss: 0.3821 - val_accuracy: 0.8834\n",
            "Epoch 16/40\n",
            "1146/1146 [==============================] - 4s 3ms/step - loss: 0.3068 - accuracy: 0.9051 - val_loss: 0.3419 - val_accuracy: 0.8924\n",
            "Epoch 17/40\n",
            "1146/1146 [==============================] - 4s 3ms/step - loss: 0.2926 - accuracy: 0.9095 - val_loss: 0.3553 - val_accuracy: 0.8928\n",
            "Epoch 18/40\n",
            "1146/1146 [==============================] - 4s 3ms/step - loss: 0.2814 - accuracy: 0.9112 - val_loss: 0.3458 - val_accuracy: 0.8918\n",
            "Epoch 19/40\n",
            "1146/1146 [==============================] - 4s 3ms/step - loss: 0.2716 - accuracy: 0.9126 - val_loss: 0.3330 - val_accuracy: 0.8946\n",
            "Epoch 20/40\n",
            "1146/1146 [==============================] - 4s 3ms/step - loss: 0.2602 - accuracy: 0.9168 - val_loss: 0.3337 - val_accuracy: 0.8930\n",
            "Epoch 21/40\n",
            "1146/1146 [==============================] - 4s 3ms/step - loss: 0.2564 - accuracy: 0.9170 - val_loss: 0.3562 - val_accuracy: 0.8896\n",
            "Epoch 22/40\n",
            "1146/1146 [==============================] - 4s 3ms/step - loss: 0.2445 - accuracy: 0.9196 - val_loss: 0.3225 - val_accuracy: 0.8948\n",
            "Epoch 23/40\n",
            "1146/1146 [==============================] - 3s 3ms/step - loss: 0.2408 - accuracy: 0.9204 - val_loss: 0.3317 - val_accuracy: 0.8938\n",
            "Epoch 24/40\n",
            "1146/1146 [==============================] - 3s 3ms/step - loss: 0.2373 - accuracy: 0.9219 - val_loss: 0.3390 - val_accuracy: 0.8962\n",
            "Epoch 25/40\n",
            "1146/1146 [==============================] - 4s 3ms/step - loss: 0.2273 - accuracy: 0.9245 - val_loss: 0.3314 - val_accuracy: 0.8960\n",
            "Epoch 26/40\n",
            "1146/1146 [==============================] - 4s 3ms/step - loss: 0.2184 - accuracy: 0.9285 - val_loss: 0.3539 - val_accuracy: 0.8930\n",
            "Epoch 27/40\n",
            "1146/1146 [==============================] - 4s 3ms/step - loss: 0.2148 - accuracy: 0.9277 - val_loss: 0.3504 - val_accuracy: 0.8930\n",
            "Epoch 28/40\n",
            "1146/1146 [==============================] - 4s 3ms/step - loss: 0.2103 - accuracy: 0.9292 - val_loss: 0.3568 - val_accuracy: 0.8942\n",
            "Epoch 29/40\n",
            "1146/1146 [==============================] - 4s 3ms/step - loss: 0.2087 - accuracy: 0.9307 - val_loss: 0.3692 - val_accuracy: 0.8888\n",
            "Epoch 30/40\n",
            "1146/1146 [==============================] - 4s 3ms/step - loss: 0.2023 - accuracy: 0.9329 - val_loss: 0.3521 - val_accuracy: 0.8890\n",
            "Epoch 31/40\n",
            "1146/1146 [==============================] - 3s 3ms/step - loss: 0.2023 - accuracy: 0.9330 - val_loss: 0.3611 - val_accuracy: 0.8930\n",
            "Epoch 32/40\n",
            "1146/1146 [==============================] - 4s 3ms/step - loss: 0.2004 - accuracy: 0.9334 - val_loss: 0.3541 - val_accuracy: 0.8892\n",
            "Epoch 33/40\n",
            "1146/1146 [==============================] - 3s 3ms/step - loss: 0.1867 - accuracy: 0.9375 - val_loss: 0.3434 - val_accuracy: 0.8996\n",
            "Epoch 34/40\n",
            "1146/1146 [==============================] - 3s 3ms/step - loss: 0.1911 - accuracy: 0.9357 - val_loss: 0.3454 - val_accuracy: 0.8986\n",
            "Epoch 35/40\n",
            "1146/1146 [==============================] - 3s 3ms/step - loss: 0.1841 - accuracy: 0.9388 - val_loss: 0.3316 - val_accuracy: 0.8960\n",
            "Epoch 36/40\n",
            "1146/1146 [==============================] - 4s 3ms/step - loss: 0.1817 - accuracy: 0.9395 - val_loss: 0.3323 - val_accuracy: 0.8988\n",
            "Epoch 37/40\n",
            "1146/1146 [==============================] - 3s 3ms/step - loss: 0.1723 - accuracy: 0.9417 - val_loss: 0.3523 - val_accuracy: 0.8960\n",
            "Epoch 38/40\n",
            "1146/1146 [==============================] - 3s 3ms/step - loss: 0.1741 - accuracy: 0.9424 - val_loss: 0.3669 - val_accuracy: 0.8904\n",
            "Epoch 39/40\n",
            "1146/1146 [==============================] - 4s 3ms/step - loss: 0.1716 - accuracy: 0.9419 - val_loss: 0.3485 - val_accuracy: 0.8982\n",
            "Epoch 40/40\n",
            "1146/1146 [==============================] - 4s 3ms/step - loss: 0.1725 - accuracy: 0.9421 - val_loss: 0.3805 - val_accuracy: 0.8866\n"
          ]
        }
      ]
    },
    {
      "cell_type": "markdown",
      "source": [
        "## Add Dropout and batch_normalization"
      ],
      "metadata": {
        "id": "POGbQIwAboWu"
      }
    },
    {
      "cell_type": "code",
      "source": [
        "from keras.layers import BatchNormalization\n",
        "from keras.layers import Dropout\n",
        "model = keras.models.Sequential()\n",
        "model.add(keras.layers.Flatten(input_shape=[28, 28]))\n",
        "model.add(Dropout(0.25))\n",
        "model.add(keras.layers.Dense(300, activation=\"relu\"))\n",
        "model.add(keras.layers.Dense(200, activation=\"relu\"))\n",
        "model.add(keras.layers.Dense(100, activation=\"relu\"))\n",
        "model.add(keras.layers.Dense(100, activation=\"relu\"))\n",
        "model.add(keras.layers.Dense(10, activation=\"softmax\"))\n",
        "model.add(keras.layers.Dense(10, activation=\"softmax\"))\n",
        "model.add(BatchNormalization())\n"
      ],
      "metadata": {
        "id": "vxGl2no1bUWE"
      },
      "execution_count": 44,
      "outputs": []
    },
    {
      "cell_type": "code",
      "source": [
        "model.compile(loss=\"sparse_categorical_crossentropy\",\n",
        "              optimizer=\"Nadam\",\n",
        "              metrics=[\"accuracy\"])"
      ],
      "metadata": {
        "id": "jug7fOBrcwB9"
      },
      "execution_count": 45,
      "outputs": []
    },
    {
      "cell_type": "code",
      "source": [
        "history = model.fit(X_train, y_train, batch_size=48, epochs=40,\n",
        "                    validation_data = (X_valid, y_valid))\n"
      ],
      "metadata": {
        "colab": {
          "base_uri": "https://localhost:8080/"
        },
        "id": "PHwY0MKNczbo",
        "outputId": "cd58ce19-ee98-4e69-f8ae-b1bfa63458d7"
      },
      "execution_count": 46,
      "outputs": [
        {
          "output_type": "stream",
          "name": "stdout",
          "text": [
            "Epoch 1/40\n",
            "1146/1146 [==============================] - 9s 5ms/step - loss: 2.6017 - accuracy: 0.1932 - val_loss: 2.3026 - val_accuracy: 0.1004\n",
            "Epoch 2/40\n",
            "1146/1146 [==============================] - 6s 5ms/step - loss: 2.3035 - accuracy: 0.1000 - val_loss: 2.3026 - val_accuracy: 0.1002\n",
            "Epoch 3/40\n",
            "1146/1146 [==============================] - 6s 5ms/step - loss: 2.3027 - accuracy: 0.1000 - val_loss: 2.3026 - val_accuracy: 0.1002\n",
            "Epoch 4/40\n",
            "1146/1146 [==============================] - 6s 5ms/step - loss: 2.3026 - accuracy: 0.1000 - val_loss: 2.3026 - val_accuracy: 0.1002\n",
            "Epoch 5/40\n",
            "1146/1146 [==============================] - 6s 6ms/step - loss: 2.3026 - accuracy: 0.1000 - val_loss: 2.3026 - val_accuracy: 0.1002\n",
            "Epoch 6/40\n",
            "1146/1146 [==============================] - 6s 5ms/step - loss: 2.3026 - accuracy: 0.1000 - val_loss: 2.3026 - val_accuracy: 0.1002\n",
            "Epoch 7/40\n",
            "1146/1146 [==============================] - 6s 5ms/step - loss: 2.3026 - accuracy: 0.1000 - val_loss: 2.3026 - val_accuracy: 0.1002\n",
            "Epoch 8/40\n",
            "1146/1146 [==============================] - 6s 5ms/step - loss: 2.3026 - accuracy: 0.1000 - val_loss: 2.3026 - val_accuracy: 0.1002\n",
            "Epoch 9/40\n",
            "1146/1146 [==============================] - 6s 5ms/step - loss: 2.3026 - accuracy: 0.1000 - val_loss: 2.3026 - val_accuracy: 0.1002\n",
            "Epoch 10/40\n",
            "1146/1146 [==============================] - 6s 5ms/step - loss: 2.3026 - accuracy: 0.1000 - val_loss: 2.3026 - val_accuracy: 0.1002\n",
            "Epoch 11/40\n",
            "1146/1146 [==============================] - 6s 5ms/step - loss: 2.3026 - accuracy: 0.1000 - val_loss: 2.3026 - val_accuracy: 0.1002\n",
            "Epoch 12/40\n",
            "1146/1146 [==============================] - 6s 5ms/step - loss: 2.3026 - accuracy: 0.1000 - val_loss: 2.3026 - val_accuracy: 0.1002\n",
            "Epoch 13/40\n",
            "1146/1146 [==============================] - 6s 5ms/step - loss: 2.3026 - accuracy: 0.1000 - val_loss: 2.3026 - val_accuracy: 0.1002\n",
            "Epoch 14/40\n",
            "1146/1146 [==============================] - 6s 5ms/step - loss: 2.3026 - accuracy: 0.1000 - val_loss: 2.3026 - val_accuracy: 0.1002\n",
            "Epoch 15/40\n",
            "1146/1146 [==============================] - 6s 5ms/step - loss: 2.3026 - accuracy: 0.1000 - val_loss: 2.3026 - val_accuracy: 0.1002\n",
            "Epoch 16/40\n",
            "1146/1146 [==============================] - 6s 5ms/step - loss: 2.3026 - accuracy: 0.1000 - val_loss: 2.3026 - val_accuracy: 0.1002\n",
            "Epoch 17/40\n",
            "1146/1146 [==============================] - 6s 5ms/step - loss: 2.3026 - accuracy: 0.1000 - val_loss: 2.3026 - val_accuracy: 0.1002\n",
            "Epoch 18/40\n",
            "1146/1146 [==============================] - 6s 6ms/step - loss: 2.3026 - accuracy: 0.1000 - val_loss: 2.3026 - val_accuracy: 0.1002\n",
            "Epoch 19/40\n",
            "1146/1146 [==============================] - 6s 5ms/step - loss: 2.3028 - accuracy: 0.0993 - val_loss: 2.3026 - val_accuracy: 0.0986\n",
            "Epoch 20/40\n",
            "1146/1146 [==============================] - 7s 6ms/step - loss: 2.3026 - accuracy: 0.1001 - val_loss: 2.3026 - val_accuracy: 0.0986\n",
            "Epoch 21/40\n",
            "1146/1146 [==============================] - 6s 5ms/step - loss: 2.3026 - accuracy: 0.1001 - val_loss: 2.3026 - val_accuracy: 0.0986\n",
            "Epoch 22/40\n",
            "1146/1146 [==============================] - 6s 5ms/step - loss: 2.3026 - accuracy: 0.1001 - val_loss: 2.3026 - val_accuracy: 0.0986\n",
            "Epoch 23/40\n",
            "1146/1146 [==============================] - 6s 5ms/step - loss: 2.3026 - accuracy: 0.1001 - val_loss: 2.3026 - val_accuracy: 0.0986\n",
            "Epoch 24/40\n",
            "1146/1146 [==============================] - 7s 6ms/step - loss: 2.3026 - accuracy: 0.1001 - val_loss: 2.3026 - val_accuracy: 0.0986\n",
            "Epoch 25/40\n",
            "1146/1146 [==============================] - 6s 5ms/step - loss: 2.3026 - accuracy: 0.1001 - val_loss: 2.3026 - val_accuracy: 0.0986\n",
            "Epoch 26/40\n",
            "1146/1146 [==============================] - 6s 6ms/step - loss: 2.3026 - accuracy: 0.1001 - val_loss: 2.3026 - val_accuracy: 0.0986\n",
            "Epoch 27/40\n",
            "1146/1146 [==============================] - 6s 5ms/step - loss: 2.3026 - accuracy: 0.1001 - val_loss: 2.3026 - val_accuracy: 0.0986\n",
            "Epoch 28/40\n",
            "1146/1146 [==============================] - 6s 5ms/step - loss: 2.3026 - accuracy: 0.1001 - val_loss: 2.3026 - val_accuracy: 0.0986\n",
            "Epoch 29/40\n",
            "1146/1146 [==============================] - 6s 5ms/step - loss: 2.3026 - accuracy: 0.1001 - val_loss: 2.3026 - val_accuracy: 0.0986\n",
            "Epoch 30/40\n",
            "1146/1146 [==============================] - 6s 5ms/step - loss: 2.3026 - accuracy: 0.1001 - val_loss: 2.3026 - val_accuracy: 0.0986\n",
            "Epoch 31/40\n",
            "1146/1146 [==============================] - 6s 6ms/step - loss: 2.3026 - accuracy: 0.1001 - val_loss: 2.3026 - val_accuracy: 0.0986\n",
            "Epoch 32/40\n",
            "1146/1146 [==============================] - 6s 6ms/step - loss: 2.3026 - accuracy: 0.1001 - val_loss: 2.3026 - val_accuracy: 0.0986\n",
            "Epoch 33/40\n",
            "1146/1146 [==============================] - 6s 5ms/step - loss: 2.3026 - accuracy: 0.1001 - val_loss: 2.3026 - val_accuracy: 0.0986\n",
            "Epoch 34/40\n",
            "1146/1146 [==============================] - 6s 5ms/step - loss: 2.3026 - accuracy: 0.1001 - val_loss: 2.3026 - val_accuracy: 0.0986\n",
            "Epoch 35/40\n",
            "1146/1146 [==============================] - 6s 5ms/step - loss: 2.3026 - accuracy: 0.1001 - val_loss: 2.3026 - val_accuracy: 0.0986\n",
            "Epoch 36/40\n",
            "1146/1146 [==============================] - 6s 5ms/step - loss: 2.3026 - accuracy: 0.1001 - val_loss: 2.3026 - val_accuracy: 0.0986\n",
            "Epoch 37/40\n",
            "1146/1146 [==============================] - 6s 6ms/step - loss: 2.3026 - accuracy: 0.1001 - val_loss: 2.3026 - val_accuracy: 0.0986\n",
            "Epoch 38/40\n",
            "1146/1146 [==============================] - 6s 6ms/step - loss: 2.3026 - accuracy: 0.1001 - val_loss: 2.3026 - val_accuracy: 0.0986\n",
            "Epoch 39/40\n",
            "1146/1146 [==============================] - 6s 6ms/step - loss: 2.3026 - accuracy: 0.1001 - val_loss: 2.3026 - val_accuracy: 0.0986\n",
            "Epoch 40/40\n",
            "1146/1146 [==============================] - 6s 5ms/step - loss: 2.3026 - accuracy: 0.1001 - val_loss: 2.3026 - val_accuracy: 0.0986\n"
          ]
        }
      ]
    },
    {
      "cell_type": "code",
      "source": [
        "model = keras.models.Sequential()\n",
        "model.add(keras.layers.Flatten(input_shape=[28, 28]))\n",
        "model.add(keras.layers.Dense(300, activation=\"relu\"))\n",
        "model.add(Dropout(0.25))\n",
        "model.add(keras.layers.Dense(100, activation=\"relu\"))\n",
        "model.add(BatchNormalization())\n",
        "model.add(keras.layers.Dense(10, activation=\"softmax\"))\n",
        "\n"
      ],
      "metadata": {
        "id": "Z3fRwbVGeodm"
      },
      "execution_count": 47,
      "outputs": []
    },
    {
      "cell_type": "code",
      "source": [
        "model.compile(loss=\"sparse_categorical_crossentropy\",\n",
        "              optimizer=\"adam\",\n",
        "              metrics=[\"accuracy\"])"
      ],
      "metadata": {
        "id": "T5jgPsSve0ob"
      },
      "execution_count": 48,
      "outputs": []
    },
    {
      "cell_type": "code",
      "source": [
        "history = model.fit(X_train, y_train, batch_size=32, epochs=30,\n",
        "                    validation_data = (X_valid, y_valid))\n"
      ],
      "metadata": {
        "colab": {
          "base_uri": "https://localhost:8080/"
        },
        "id": "42Y_EAmMe0XG",
        "outputId": "d0fe1ff5-c758-4464-aa4a-8c7c44dfd16b"
      },
      "execution_count": 49,
      "outputs": [
        {
          "output_type": "stream",
          "name": "stdout",
          "text": [
            "Epoch 1/30\n",
            "1719/1719 [==============================] - 6s 3ms/step - loss: 0.5563 - accuracy: 0.8001 - val_loss: 0.4352 - val_accuracy: 0.8484\n",
            "Epoch 2/30\n",
            "1719/1719 [==============================] - 5s 3ms/step - loss: 0.4321 - accuracy: 0.8428 - val_loss: 0.3527 - val_accuracy: 0.8728\n",
            "Epoch 3/30\n",
            "1719/1719 [==============================] - 5s 3ms/step - loss: 0.3942 - accuracy: 0.8553 - val_loss: 0.3281 - val_accuracy: 0.8814\n",
            "Epoch 4/30\n",
            "1719/1719 [==============================] - 6s 3ms/step - loss: 0.3717 - accuracy: 0.8641 - val_loss: 0.3393 - val_accuracy: 0.8706\n",
            "Epoch 5/30\n",
            "1719/1719 [==============================] - 6s 3ms/step - loss: 0.3522 - accuracy: 0.8703 - val_loss: 0.3120 - val_accuracy: 0.8852\n",
            "Epoch 6/30\n",
            "1719/1719 [==============================] - 6s 3ms/step - loss: 0.3395 - accuracy: 0.8738 - val_loss: 0.3040 - val_accuracy: 0.8890\n",
            "Epoch 7/30\n",
            "1719/1719 [==============================] - 5s 3ms/step - loss: 0.3263 - accuracy: 0.8797 - val_loss: 0.3221 - val_accuracy: 0.8838\n",
            "Epoch 8/30\n",
            "1719/1719 [==============================] - 5s 3ms/step - loss: 0.3160 - accuracy: 0.8838 - val_loss: 0.2936 - val_accuracy: 0.8948\n",
            "Epoch 9/30\n",
            "1719/1719 [==============================] - 5s 3ms/step - loss: 0.3079 - accuracy: 0.8851 - val_loss: 0.2960 - val_accuracy: 0.8912\n",
            "Epoch 10/30\n",
            "1719/1719 [==============================] - 5s 3ms/step - loss: 0.2979 - accuracy: 0.8904 - val_loss: 0.2864 - val_accuracy: 0.8950\n",
            "Epoch 11/30\n",
            "1719/1719 [==============================] - 5s 3ms/step - loss: 0.2899 - accuracy: 0.8921 - val_loss: 0.2934 - val_accuracy: 0.8918\n",
            "Epoch 12/30\n",
            "1719/1719 [==============================] - 5s 3ms/step - loss: 0.2874 - accuracy: 0.8931 - val_loss: 0.2791 - val_accuracy: 0.8976\n",
            "Epoch 13/30\n",
            "1719/1719 [==============================] - 5s 3ms/step - loss: 0.2787 - accuracy: 0.8957 - val_loss: 0.2905 - val_accuracy: 0.8942\n",
            "Epoch 14/30\n",
            "1719/1719 [==============================] - 5s 3ms/step - loss: 0.2737 - accuracy: 0.8984 - val_loss: 0.2863 - val_accuracy: 0.8950\n",
            "Epoch 15/30\n",
            "1719/1719 [==============================] - 5s 3ms/step - loss: 0.2701 - accuracy: 0.8990 - val_loss: 0.2882 - val_accuracy: 0.8956\n",
            "Epoch 16/30\n",
            "1719/1719 [==============================] - 5s 3ms/step - loss: 0.2621 - accuracy: 0.9023 - val_loss: 0.2749 - val_accuracy: 0.8992\n",
            "Epoch 17/30\n",
            "1719/1719 [==============================] - 5s 3ms/step - loss: 0.2578 - accuracy: 0.9033 - val_loss: 0.2718 - val_accuracy: 0.8976\n",
            "Epoch 18/30\n",
            "1719/1719 [==============================] - 5s 3ms/step - loss: 0.2533 - accuracy: 0.9051 - val_loss: 0.2697 - val_accuracy: 0.9008\n",
            "Epoch 19/30\n",
            "1719/1719 [==============================] - 6s 3ms/step - loss: 0.2487 - accuracy: 0.9072 - val_loss: 0.2794 - val_accuracy: 0.8964\n",
            "Epoch 20/30\n",
            "1719/1719 [==============================] - 5s 3ms/step - loss: 0.2443 - accuracy: 0.9081 - val_loss: 0.2856 - val_accuracy: 0.8966\n",
            "Epoch 21/30\n",
            "1719/1719 [==============================] - 5s 3ms/step - loss: 0.2424 - accuracy: 0.9093 - val_loss: 0.2749 - val_accuracy: 0.8972\n",
            "Epoch 22/30\n",
            "1719/1719 [==============================] - 5s 3ms/step - loss: 0.2370 - accuracy: 0.9096 - val_loss: 0.2772 - val_accuracy: 0.8952\n",
            "Epoch 23/30\n",
            "1719/1719 [==============================] - 5s 3ms/step - loss: 0.2333 - accuracy: 0.9113 - val_loss: 0.2745 - val_accuracy: 0.9012\n",
            "Epoch 24/30\n",
            "1719/1719 [==============================] - 5s 3ms/step - loss: 0.2306 - accuracy: 0.9138 - val_loss: 0.2951 - val_accuracy: 0.8864\n",
            "Epoch 25/30\n",
            "1719/1719 [==============================] - 5s 3ms/step - loss: 0.2266 - accuracy: 0.9146 - val_loss: 0.2897 - val_accuracy: 0.9004\n",
            "Epoch 26/30\n",
            "1719/1719 [==============================] - 5s 3ms/step - loss: 0.2241 - accuracy: 0.9156 - val_loss: 0.2679 - val_accuracy: 0.9002\n",
            "Epoch 27/30\n",
            "1719/1719 [==============================] - 5s 3ms/step - loss: 0.2222 - accuracy: 0.9159 - val_loss: 0.2873 - val_accuracy: 0.8978\n",
            "Epoch 28/30\n",
            "1719/1719 [==============================] - 6s 3ms/step - loss: 0.2184 - accuracy: 0.9180 - val_loss: 0.2692 - val_accuracy: 0.9032\n",
            "Epoch 29/30\n",
            "1719/1719 [==============================] - 5s 3ms/step - loss: 0.2122 - accuracy: 0.9195 - val_loss: 0.2735 - val_accuracy: 0.9038\n",
            "Epoch 30/30\n",
            "1719/1719 [==============================] - 5s 3ms/step - loss: 0.2120 - accuracy: 0.9208 - val_loss: 0.2696 - val_accuracy: 0.9008\n"
          ]
        }
      ]
    },
    {
      "cell_type": "markdown",
      "source": [
        "##Plot Leaning curves"
      ],
      "metadata": {
        "id": "GbHk0xh2SXm5"
      }
    },
    {
      "cell_type": "code",
      "source": [
        "import pandas as pd\n",
        "\n",
        "pd.DataFrame(history.history).plot(figsize=(8, 5))\n",
        "plt.grid(True)\n",
        "plt.gca().set_ylim(0, 1)\n",
        "plt.show()"
      ],
      "metadata": {
        "id": "HdJhbO-dR-Sd",
        "colab": {
          "base_uri": "https://localhost:8080/",
          "height": 328
        },
        "outputId": "d8976cbf-daea-485f-8ec5-87b9c154264c"
      },
      "execution_count": 50,
      "outputs": [
        {
          "output_type": "display_data",
          "data": {
            "text/plain": [
              "<Figure size 576x360 with 1 Axes>"
            ],
            "image/png": "[encoded data removed]"
          },
          "metadata": {
            "needs_background": "light"
          }
        }
      ]
    }
  ],
  "metadata": {
    "kernelspec": {
      "display_name": "Python 3",
      "language": "python",
      "name": "python3"
    },
    "language_info": {
      "codemirror_mode": {
        "name": "ipython",
        "version": 3
      },
      "file_extension": ".py",
      "mimetype": "text/x-python",
      "name": "python",
      "nbconvert_exporter": "python",
      "pygments_lexer": "ipython3",
      "version": "3.6.1"
    },
    "nav_menu": {
      "height": "264px",
      "width": "369px"
    },
    "toc": {
      "navigate_menu": true,
      "number_sections": true,
      "sideBar": true,
      "threshold": 6,
      "toc_cell": false,
      "toc_section_display": "block",
      "toc_window_display": false
    },
    "colab": {
      "name": "ANN_with_keras_Amine_SNOUSSI.ipynb",
      "provenance": [],
      "collapsed_sections": [
        "i2k4H2nqKeHn",
        "KDiRlN6sKeHq"
      ]
    },
    "accelerator": "GPU"
  },
  "nbformat": 4,
  "nbformat_minor": 0
}
